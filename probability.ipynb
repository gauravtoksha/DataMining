{
 "cells": [
  {
   "cell_type": "markdown",
   "metadata": {},
   "source": [
    "# Practical 7"
   ]
  },
  {
   "cell_type": "markdown",
   "metadata": {},
   "source": [
    "## Probabilities of Events"
   ]
  },
  {
   "cell_type": "markdown",
   "metadata": {},
   "source": [
    "Aim : Predict Events using Conditional probabilities"
   ]
  },
  {
   "cell_type": "markdown",
   "metadata": {},
   "source": [
    "The intuition behind finding the Probabilities of Events is developed using the following example<br>\n",
    "<br>\n",
    "*based on news about North Korea conducting a missile test, can you successfully predict that there will be some news featuring Donald Trump in tomorrow's newspaper?*\n",
    "<br><br>\n",
    "from the Above example it is clear that we need to find the mappings between Persons and their most commonly associated keywords"
   ]
  },
  {
   "cell_type": "code",
   "execution_count": 202,
   "metadata": {
    "collapsed": true
   },
   "outputs": [],
   "source": [
    "counter=counter.most_common()"
   ]
  },
  {
   "cell_type": "code",
   "execution_count": null,
   "metadata": {
    "collapsed": true
   },
   "outputs": [],
   "source": [
    "for word in counter:\n",
    "    person=word[0]\n",
    "    print(person)\n",
    "    print(PersonCounter.get(person))\n",
    "    "
   ]
  },
  {
   "cell_type": "markdown",
   "metadata": {},
   "source": [
    "### Probability of Given Event"
   ]
  },
  {
   "cell_type": "markdown",
   "metadata": {},
   "source": [
    "First we will find out  $ P(A,B) $  ie the probability of occuring both the events together<br>\n",
    "which can be easily be figured because it will be the number of times that event has occured in the set of most commonly used words in that person's list<br>\n",
    "<br>\n",
    "for example:\n",
    "Donald Trump\n",
    "[('us', 3292), ('trump', 2818), ('said', 2559), ('percent', 2352), ('donald', 2034), ('presidentelect', 1484), ('trumps', 1176), ('new', 1054), ('would', 952), ('president', 932)]<br>\n",
    "\n",
    "In the above set the event Presidentelect and Donald Trump are together for atleast 1484 times <br>\n",
    "Here A=Donald Trump and B=presidentelect<br>\n",
    "Therefore to calculate the Probability P(A,B) = 1484/number of tokens in the entire dataset\n",
    "\n",
    "In the earlier attempts of trying different datasets we have seen  corelation between persons\n",
    "for example \n",
    "there was a relationship between Akhilesh Yadav and Mulayam Singh Yadav"
   ]
  },
  {
   "cell_type": "code",
   "execution_count": 204,
   "metadata": {
    "collapsed": true
   },
   "outputs": [],
   "source": [
    "TokenCorpus=df['tokens'].values"
   ]
  },
  {
   "cell_type": "code",
   "execution_count": 205,
   "metadata": {
    "collapsed": true
   },
   "outputs": [],
   "source": [
    "firstlist=TokenCorpus[0]\n",
    "for eachlist in TokenCorpus[1:]:\n",
    "    firstlist+=eachlist\n",
    "    eachlist=None"
   ]
  },
  {
   "cell_type": "code",
   "execution_count": 207,
   "metadata": {},
   "outputs": [
    {
     "name": "stdout",
     "output_type": "stream",
     "text": [
      "1669\n"
     ]
    }
   ],
   "source": [
    "event_count=0\n",
    "for word in firstlist:\n",
    "    if word == 'presidentelect':\n",
    "        event_count=event_count+1\n",
    "print(event_count)"
   ]
  },
  {
   "cell_type": "code",
   "execution_count": 208,
   "metadata": {},
   "outputs": [
    {
     "name": "stdout",
     "output_type": "stream",
     "text": [
      "4036\n"
     ]
    }
   ],
   "source": [
    "for word in list(counter):\n",
    "    if word[0]=='Donald Trump':\n",
    "        n_count=word[1]\n",
    "        print(n_count)\n",
    "        break"
   ]
  },
  {
   "cell_type": "code",
   "execution_count": 209,
   "metadata": {},
   "outputs": [
    {
     "data": {
      "text/plain": [
       "0.0005043570467243981"
      ]
     },
     "execution_count": 209,
     "metadata": {},
     "output_type": "execute_result"
    }
   ],
   "source": [
    "##calculating P(A AND B)\n",
    "AandB = 1484/len(firstlist)\n",
    "AandB"
   ]
  },
  {
   "cell_type": "code",
   "execution_count": 211,
   "metadata": {},
   "outputs": [
    {
     "data": {
      "text/plain": [
       "0.014514278727375382"
      ]
     },
     "execution_count": 211,
     "metadata": {},
     "output_type": "execute_result"
    }
   ],
   "source": [
    "#Probability of A\n",
    "ProbA=n_count/len(new_listPerson1.split(','))\n",
    "ProbA"
   ]
  },
  {
   "cell_type": "code",
   "execution_count": 212,
   "metadata": {
    "scrolled": true
   },
   "outputs": [
    {
     "name": "stdout",
     "output_type": "stream",
     "text": [
      "Probability of B:\n"
     ]
    },
    {
     "data": {
      "text/plain": [
       "0.0005672317459454316"
      ]
     },
     "execution_count": 212,
     "metadata": {},
     "output_type": "execute_result"
    }
   ],
   "source": [
    "#P(B)\n",
    "ProbB=event_count/len(firstlist)\n",
    "print('Probability of B:')\n",
    "ProbB"
   ]
  },
  {
   "cell_type": "code",
   "execution_count": 213,
   "metadata": {
    "scrolled": true
   },
   "outputs": [
    {
     "name": "stdout",
     "output_type": "stream",
     "text": [
      "Probability of A given B\n"
     ]
    },
    {
     "data": {
      "text/plain": [
       "0.8891551827441582"
      ]
     },
     "execution_count": 213,
     "metadata": {},
     "output_type": "execute_result"
    }
   ],
   "source": [
    "AgivenB=AandB/ProbB\n",
    "print('Probability of A given B')\n",
    "AgivenB"
   ]
  },
  {
   "cell_type": "markdown",
   "metadata": {},
   "source": [
    "Therefore Given the mention of word Presidentelect there is a high chance of Donald Trump getting mentioned in future news or in the same news itself"
   ]
  },
  {
   "cell_type": "code",
   "execution_count": null,
   "metadata": {
    "collapsed": true
   },
   "outputs": [],
   "source": []
  }
 ],
 "metadata": {
  "kernelspec": {
   "display_name": "Python 3",
   "language": "python",
   "name": "python3"
  },
  "language_info": {
   "codemirror_mode": {
    "name": "ipython",
    "version": 3
   },
   "file_extension": ".py",
   "mimetype": "text/x-python",
   "name": "python",
   "nbconvert_exporter": "python",
   "pygments_lexer": "ipython3",
   "version": "3.6.3"
  },
  "varInspector": {
   "cols": {
    "lenName": 16,
    "lenType": 16,
    "lenVar": 40
   },
   "kernels_config": {
    "python": {
     "delete_cmd_postfix": "",
     "delete_cmd_prefix": "del ",
     "library": "var_list.py",
     "varRefreshCmd": "print(var_dic_list())"
    },
    "r": {
     "delete_cmd_postfix": ") ",
     "delete_cmd_prefix": "rm(",
     "library": "var_list.r",
     "varRefreshCmd": "cat(var_dic_list()) "
    }
   },
   "types_to_exclude": [
    "module",
    "function",
    "builtin_function_or_method",
    "instance",
    "_Feature"
   ],
   "window_display": false
  }
 },
 "nbformat": 4,
 "nbformat_minor": 2
}
