{
 "cells": [
  {
   "cell_type": "markdown",
   "metadata": {},
   "source": [
    "# Practical 4"
   ]
  },
  {
   "cell_type": "markdown",
   "metadata": {},
   "source": [
    "## Extraction of latent Variables"
   ]
  },
  {
   "cell_type": "markdown",
   "metadata": {},
   "source": [
    "Aim: To extract Latent variables"
   ]
  },
  {
   "cell_type": "markdown",
   "metadata": {},
   "source": [
    "Since the dataset has Names and cities which could be use for Analyzing news for those areas , it becomes essential to Extract those information before cleaning is done on the dataset"
   ]
  },
  {
   "cell_type": "markdown",
   "metadata": {},
   "source": [
    "### Retreiving Cities and States"
   ]
  },
  {
   "cell_type": "markdown",
   "metadata": {},
   "source": [
    "Using the City and State list created above "
   ]
  },
  {
   "cell_type": "code",
   "execution_count": 42,
   "metadata": {
    "collapsed": true
   },
   "outputs": [],
   "source": [
    "citylist=citylist.astype(str)"
   ]
  },
  {
   "cell_type": "code",
   "execution_count": 43,
   "metadata": {
    "collapsed": true
   },
   "outputs": [],
   "source": [
    "def getCity(text):\n",
    "    result=\"\"\n",
    "    for a in citylist:\n",
    "        if a.strip() in text:\n",
    "            result+=a+\",\"\n",
    "    return result.split(',')[0]"
   ]
  },
  {
   "cell_type": "code",
   "execution_count": 44,
   "metadata": {
    "collapsed": true
   },
   "outputs": [],
   "source": [
    "def getState(text):\n",
    "    result=\"\"\n",
    "    for a in statelist:\n",
    "        if a.strip() in text:\n",
    "            result+=a+\",\"\n",
    "    return result.split(',')[0]"
   ]
  },
  {
   "cell_type": "code",
   "execution_count": 45,
   "metadata": {
    "collapsed": true
   },
   "outputs": [],
   "source": [
    "df['city']=df['summary'].apply(lambda x:getCity(x))"
   ]
  },
  {
   "cell_type": "code",
   "execution_count": 46,
   "metadata": {
    "collapsed": true
   },
   "outputs": [],
   "source": [
    "df['state']=df['summary'].apply(lambda x:getState(x))"
   ]
  },
  {
   "cell_type": "markdown",
   "metadata": {},
   "source": [
    "### Removing news names,cities and states"
   ]
  },
  {
   "cell_type": "code",
   "execution_count": 48,
   "metadata": {
    "collapsed": true
   },
   "outputs": [],
   "source": [
    "def removeNames(text):\n",
    "    for a in newsnamelist:\n",
    "        if a in text:\n",
    "            text=text.replace(a,\"\")\n",
    "    for a in citylist:\n",
    "        if a in text:\n",
    "            text=text.replace(a,\"\")\n",
    "    for a in statelist:\n",
    "        if a in text:\n",
    "            text=text.replace(a,\"\")\n",
    "    return text;"
   ]
  },
  {
   "cell_type": "code",
   "execution_count": 49,
   "metadata": {
    "collapsed": true
   },
   "outputs": [],
   "source": [
    "df['title']=df['title'].apply(lambda x:removeNames(x))"
   ]
  },
  {
   "cell_type": "code",
   "execution_count": 50,
   "metadata": {
    "collapsed": true
   },
   "outputs": [],
   "source": [
    "df['trimmed_description']=df['trimmed_description'].apply(lambda x:removeNames(x))"
   ]
  },
  {
   "cell_type": "code",
   "execution_count": 51,
   "metadata": {
    "collapsed": true
   },
   "outputs": [],
   "source": [
    "df['summary']=df['summary'].apply(lambda x:removeNames(x))"
   ]
  },
  {
   "cell_type": "markdown",
   "metadata": {},
   "source": [
    "## dates:"
   ]
  },
  {
   "cell_type": "code",
   "execution_count": 52,
   "metadata": {
    "collapsed": true
   },
   "outputs": [],
   "source": [
    "def addCrawl(crawltext):\n",
    "    f = \"%Y-%m-%d\"\n",
    "    crawltext=crawltext.split('T')[0].strip()\n",
    "    currdate=datetime.datetime.strptime(crawltext, f)\n",
    "    return currdate"
   ]
  },
  {
   "cell_type": "code",
   "execution_count": 53,
   "metadata": {
    "collapsed": true
   },
   "outputs": [],
   "source": [
    "df['crawl_time']=df['crawl_time'].apply(lambda x:addCrawl(x))"
   ]
  },
  {
   "cell_type": "code",
   "execution_count": 54,
   "metadata": {
    "collapsed": true
   },
   "outputs": [],
   "source": [
    "def printx(text):\n",
    "    text=list(text)\n",
    "    print(text)"
   ]
  },
  {
   "cell_type": "code",
   "execution_count": 55,
   "metadata": {
    "collapsed": true
   },
   "outputs": [],
   "source": [
    "def addDate(text):\n",
    "    text=text.split('$$$')\n",
    "    datelist=[]\n",
    "    currdate=text[1]\n",
    "    dates=list(datefinder.find_dates(text[0]))\n",
    "    for dates1 in dates:\n",
    "        date1=dates1\n",
    "        if date1.year==2017:\n",
    "            currdate=date1\n",
    "    return currdate"
   ]
  },
  {
   "cell_type": "code",
   "execution_count": 56,
   "metadata": {},
   "outputs": [
    {
     "data": {
      "text/plain": [
       "url                            object\n",
       "source                         object\n",
       "crawl_time             datetime64[ns]\n",
       "title                          object\n",
       "trimmed_description            object\n",
       "summary                        object\n",
       "city                           object\n",
       "state                          object\n",
       "dtype: object"
      ]
     },
     "execution_count": 56,
     "metadata": {},
     "output_type": "execute_result"
    }
   ],
   "source": [
    "df.dtypes"
   ]
  },
  {
   "cell_type": "code",
   "execution_count": 57,
   "metadata": {
    "collapsed": true
   },
   "outputs": [],
   "source": [
    "df['crawl_time']=df['crawl_time'].apply(lambda x:toString(x))"
   ]
  },
  {
   "cell_type": "code",
   "execution_count": 58,
   "metadata": {
    "collapsed": true
   },
   "outputs": [],
   "source": [
    "df['Date']=df['summary']+df['trimmed_description']+'$$$'+df['crawl_time']"
   ]
  },
  {
   "cell_type": "code",
   "execution_count": 59,
   "metadata": {
    "collapsed": true
   },
   "outputs": [],
   "source": [
    "df['Date']=df['Date'].apply(lambda x:addDate(x)) ## this takes alot of time"
   ]
  },
  {
   "cell_type": "code",
   "execution_count": 60,
   "metadata": {},
   "outputs": [
    {
     "data": {
      "text/plain": [
       "0    2017-01-01 00:00:00\n",
       "1    2017-01-01 00:00:00\n",
       "2    2017-01-01 00:00:00\n",
       "3    2017-01-01 00:00:00\n",
       "4    2017-04-15 00:00:00\n",
       "Name: Date, dtype: object"
      ]
     },
     "execution_count": 60,
     "metadata": {},
     "output_type": "execute_result"
    }
   ],
   "source": [
    "df['Date'].head()"
   ]
  },
  {
   "cell_type": "code",
   "execution_count": 61,
   "metadata": {
    "collapsed": true
   },
   "outputs": [],
   "source": [
    "tempdf=df #checkpoint"
   ]
  },
  {
   "cell_type": "markdown",
   "metadata": {},
   "source": [
    "### Removing Errors from the texts"
   ]
  },
  {
   "cell_type": "code",
   "execution_count": 62,
   "metadata": {
    "collapsed": true
   },
   "outputs": [],
   "source": [
    "def removeError(text): ## function for removing errors\n",
    "    text=str(text)\n",
    "    text = re.sub('[^a-z A-Z]', \"\", text) ## this will remove everything except the alphabets a-z and A-Z\n",
    "    return text"
   ]
  },
  {
   "cell_type": "code",
   "execution_count": 63,
   "metadata": {
    "collapsed": true
   },
   "outputs": [],
   "source": [
    "df['title']=df['title'].apply(lambda x:removeError(x))"
   ]
  },
  {
   "cell_type": "code",
   "execution_count": 64,
   "metadata": {
    "collapsed": true
   },
   "outputs": [],
   "source": [
    "df['summary']=df['summary'].apply(lambda x:removeError(x))"
   ]
  },
  {
   "cell_type": "code",
   "execution_count": 65,
   "metadata": {
    "collapsed": true
   },
   "outputs": [],
   "source": [
    "df['trimmed_description']=df['trimmed_description'].apply(lambda x:removeError(x))"
   ]
  },
  {
   "cell_type": "code",
   "execution_count": 66,
   "metadata": {
    "collapsed": true
   },
   "outputs": [],
   "source": [
    "df['source']=df['source'].apply(lambda x:removeError(x))"
   ]
  },
  {
   "cell_type": "code",
   "execution_count": 67,
   "metadata": {},
   "outputs": [
    {
     "data": {
      "text/html": [
       "<div>\n",
       "<style>\n",
       "    .dataframe thead tr:only-child th {\n",
       "        text-align: right;\n",
       "    }\n",
       "\n",
       "    .dataframe thead th {\n",
       "        text-align: left;\n",
       "    }\n",
       "\n",
       "    .dataframe tbody tr th {\n",
       "        vertical-align: top;\n",
       "    }\n",
       "</style>\n",
       "<table border=\"1\" class=\"dataframe\">\n",
       "  <thead>\n",
       "    <tr style=\"text-align: right;\">\n",
       "      <th></th>\n",
       "      <th>url</th>\n",
       "      <th>source</th>\n",
       "      <th>crawl_time</th>\n",
       "      <th>title</th>\n",
       "      <th>trimmed_description</th>\n",
       "      <th>summary</th>\n",
       "      <th>city</th>\n",
       "      <th>state</th>\n",
       "      <th>Date</th>\n",
       "    </tr>\n",
       "  </thead>\n",
       "  <tbody>\n",
       "    <tr>\n",
       "      <th>0</th>\n",
       "      <td>http://www.thehindu.com/news/national/New-Army...</td>\n",
       "      <td>The Hindu</td>\n",
       "      <td>2017-01-01 00:00:00</td>\n",
       "      <td>New Army Air Force Chiefs assume charge</td>\n",
       "      <td>The Army and the Air Force got new chiefs on S...</td>\n",
       "      <td>The Army and the Air Force got new chiefs on S...</td>\n",
       "      <td></td>\n",
       "      <td></td>\n",
       "      <td>2017-01-01 00:00:00</td>\n",
       "    </tr>\n",
       "    <tr>\n",
       "      <th>1</th>\n",
       "      <td>http://www.thehindu.com/news/national/kerala/K...</td>\n",
       "      <td>The Hindu</td>\n",
       "      <td>2017-01-01 00:00:00</td>\n",
       "      <td>KSRTC unions call for stir on Jan</td>\n",
       "      <td>The Indian National Trade Union Congress INTUC...</td>\n",
       "      <td>Utility needs  crore to pay salary two months ...</td>\n",
       "      <td></td>\n",
       "      <td></td>\n",
       "      <td>2017-01-01 00:00:00</td>\n",
       "    </tr>\n",
       "    <tr>\n",
       "      <th>2</th>\n",
       "      <td>http://www.thehindu.com/news/cities/mumbai/Luc...</td>\n",
       "      <td>The Hindu</td>\n",
       "      <td>2017-01-01 00:00:00</td>\n",
       "      <td>Lucky escape for tourists in SGNP bus mishap</td>\n",
       "      <td>More than  people on board a bus operated by ...</td>\n",
       "      <td>More than  people on board a bus operated by ...</td>\n",
       "      <td>Mumbai</td>\n",
       "      <td></td>\n",
       "      <td>2017-01-01 00:00:00</td>\n",
       "    </tr>\n",
       "    <tr>\n",
       "      <th>3</th>\n",
       "      <td>http://www.thehindu.com/news/cities/Hyderabad/...</td>\n",
       "      <td>The Hindu</td>\n",
       "      <td>2017-01-01 00:00:00</td>\n",
       "      <td>A successful year for Tollywood</td>\n",
       "      <td>The year just gone by will undoubtedly go down...</td>\n",
       "      <td>The year saw a diverse range of movies being r...</td>\n",
       "      <td></td>\n",
       "      <td></td>\n",
       "      <td>2017-01-01 00:00:00</td>\n",
       "    </tr>\n",
       "    <tr>\n",
       "      <th>4</th>\n",
       "      <td>http://www.sify.com/news/china-to-ban-ivory-tr...</td>\n",
       "      <td>Sify</td>\n",
       "      <td>2017-01-01 00:00:00</td>\n",
       "      <td>China to ban ivory trade by end of</td>\n",
       "      <td>php iffunctionexistsismobile  ismobile  php   ...</td>\n",
       "      <td>Beijing China will ban the processing and sale...</td>\n",
       "      <td></td>\n",
       "      <td></td>\n",
       "      <td>2017-04-15 00:00:00</td>\n",
       "    </tr>\n",
       "  </tbody>\n",
       "</table>\n",
       "</div>"
      ],
      "text/plain": [
       "                                                 url     source  \\\n",
       "0  http://www.thehindu.com/news/national/New-Army...  The Hindu   \n",
       "1  http://www.thehindu.com/news/national/kerala/K...  The Hindu   \n",
       "2  http://www.thehindu.com/news/cities/mumbai/Luc...  The Hindu   \n",
       "3  http://www.thehindu.com/news/cities/Hyderabad/...  The Hindu   \n",
       "4  http://www.sify.com/news/china-to-ban-ivory-tr...       Sify   \n",
       "\n",
       "            crawl_time                                         title  \\\n",
       "0  2017-01-01 00:00:00       New Army Air Force Chiefs assume charge   \n",
       "1  2017-01-01 00:00:00            KSRTC unions call for stir on Jan    \n",
       "2  2017-01-01 00:00:00  Lucky escape for tourists in SGNP bus mishap   \n",
       "3  2017-01-01 00:00:00               A successful year for Tollywood   \n",
       "4  2017-01-01 00:00:00           China to ban ivory trade by end of    \n",
       "\n",
       "                                 trimmed_description  \\\n",
       "0  The Army and the Air Force got new chiefs on S...   \n",
       "1  The Indian National Trade Union Congress INTUC...   \n",
       "2   More than  people on board a bus operated by ...   \n",
       "3  The year just gone by will undoubtedly go down...   \n",
       "4  php iffunctionexistsismobile  ismobile  php   ...   \n",
       "\n",
       "                                             summary    city state  \\\n",
       "0  The Army and the Air Force got new chiefs on S...                 \n",
       "1  Utility needs  crore to pay salary two months ...                 \n",
       "2   More than  people on board a bus operated by ...  Mumbai         \n",
       "3  The year saw a diverse range of movies being r...                 \n",
       "4  Beijing China will ban the processing and sale...                 \n",
       "\n",
       "                  Date  \n",
       "0  2017-01-01 00:00:00  \n",
       "1  2017-01-01 00:00:00  \n",
       "2  2017-01-01 00:00:00  \n",
       "3  2017-01-01 00:00:00  \n",
       "4  2017-04-15 00:00:00  "
      ]
     },
     "execution_count": 67,
     "metadata": {},
     "output_type": "execute_result"
    }
   ],
   "source": [
    "df.head()"
   ]
  },
  {
   "cell_type": "markdown",
   "metadata": {
    "collapsed": true
   },
   "source": [
    "### Removing Dates"
   ]
  },
  {
   "cell_type": "code",
   "execution_count": 68,
   "metadata": {},
   "outputs": [
    {
     "data": {
      "text/plain": [
       "(68557, 9)"
      ]
     },
     "execution_count": 68,
     "metadata": {},
     "output_type": "execute_result"
    }
   ],
   "source": [
    "df.shape"
   ]
  },
  {
   "cell_type": "markdown",
   "metadata": {},
   "source": [
    "Now we will start applying the function"
   ]
  },
  {
   "cell_type": "code",
   "execution_count": 69,
   "metadata": {
    "collapsed": true
   },
   "outputs": [],
   "source": [
    "datelist=\"Monday Tuesday Wednesday Friday Saturday Sunday monday tuesday wednesday friday saturday sunday mon tues wed fri sat sun jan feb mar april may june july aug sept oct nov dec Jan Feb Mar April May June July Aug Sept Oct Nov Dec  January February March April May June July Sept August October November December january february march mar april may june july sept august october november december\".split(' ')"
   ]
  },
  {
   "cell_type": "code",
   "execution_count": 70,
   "metadata": {
    "collapsed": true
   },
   "outputs": [],
   "source": [
    "def removeDates(x):\n",
    "    for a in datelist:\n",
    "        if a in x:\n",
    "            x=x.replace(a,\"\")\n",
    "    return x"
   ]
  },
  {
   "cell_type": "code",
   "execution_count": 71,
   "metadata": {
    "collapsed": true
   },
   "outputs": [],
   "source": [
    "df['title']=df['title'].apply(lambda x:removeDates(x))\n",
    "df['summary']=df['summary'].apply(lambda x:removeDates(x))\n",
    "df['trimmed_description']=df['trimmed_description'].apply(lambda x:removeDates(x))"
   ]
  },
  {
   "cell_type": "code",
   "execution_count": 72,
   "metadata": {},
   "outputs": [
    {
     "data": {
      "text/html": [
       "<div>\n",
       "<style>\n",
       "    .dataframe thead tr:only-child th {\n",
       "        text-align: right;\n",
       "    }\n",
       "\n",
       "    .dataframe thead th {\n",
       "        text-align: left;\n",
       "    }\n",
       "\n",
       "    .dataframe tbody tr th {\n",
       "        vertical-align: top;\n",
       "    }\n",
       "</style>\n",
       "<table border=\"1\" class=\"dataframe\">\n",
       "  <thead>\n",
       "    <tr style=\"text-align: right;\">\n",
       "      <th></th>\n",
       "      <th>url</th>\n",
       "      <th>source</th>\n",
       "      <th>crawl_time</th>\n",
       "      <th>title</th>\n",
       "      <th>trimmed_description</th>\n",
       "      <th>summary</th>\n",
       "      <th>city</th>\n",
       "      <th>state</th>\n",
       "      <th>Date</th>\n",
       "    </tr>\n",
       "  </thead>\n",
       "  <tbody>\n",
       "    <tr>\n",
       "      <th>0</th>\n",
       "      <td>http://www.thehindu.com/news/national/New-Army...</td>\n",
       "      <td>The Hindu</td>\n",
       "      <td>2017-01-01 00:00:00</td>\n",
       "      <td>New Army Air Force Chiefs assume charge</td>\n",
       "      <td>The Army and the Air Force got new chiefs on  ...</td>\n",
       "      <td>The Army and the Air Force got new chiefs on  ...</td>\n",
       "      <td></td>\n",
       "      <td></td>\n",
       "      <td>2017-01-01 00:00:00</td>\n",
       "    </tr>\n",
       "    <tr>\n",
       "      <th>1</th>\n",
       "      <td>http://www.thehindu.com/news/national/kerala/K...</td>\n",
       "      <td>The Hindu</td>\n",
       "      <td>2017-01-01 00:00:00</td>\n",
       "      <td>KSRTC unions call for stir on</td>\n",
       "      <td>The Indian National Trade Union Congress INTUC...</td>\n",
       "      <td>Utility needs  crore to pay salary two ths pen...</td>\n",
       "      <td></td>\n",
       "      <td></td>\n",
       "      <td>2017-01-01 00:00:00</td>\n",
       "    </tr>\n",
       "    <tr>\n",
       "      <th>2</th>\n",
       "      <td>http://www.thehindu.com/news/cities/mumbai/Luc...</td>\n",
       "      <td>The Hindu</td>\n",
       "      <td>2017-01-01 00:00:00</td>\n",
       "      <td>Lucky escape for tourists in SGNP bus mishap</td>\n",
       "      <td>More than  people on board a bus operated by ...</td>\n",
       "      <td>More than  people on board a bus operated by ...</td>\n",
       "      <td>Mumbai</td>\n",
       "      <td></td>\n",
       "      <td>2017-01-01 00:00:00</td>\n",
       "    </tr>\n",
       "    <tr>\n",
       "      <th>3</th>\n",
       "      <td>http://www.thehindu.com/news/cities/Hyderabad/...</td>\n",
       "      <td>The Hindu</td>\n",
       "      <td>2017-01-01 00:00:00</td>\n",
       "      <td>A successful year for Tollywood</td>\n",
       "      <td>The year just gone by will undoubtedly go down...</td>\n",
       "      <td>The year saw a diverse range of movies being r...</td>\n",
       "      <td></td>\n",
       "      <td></td>\n",
       "      <td>2017-01-01 00:00:00</td>\n",
       "    </tr>\n",
       "    <tr>\n",
       "      <th>4</th>\n",
       "      <td>http://www.sify.com/news/china-to-ban-ivory-tr...</td>\n",
       "      <td>Sify</td>\n",
       "      <td>2017-01-01 00:00:00</td>\n",
       "      <td>China to ban ivory trade by end of</td>\n",
       "      <td>php iffunctionexistsismobile  ismobile  php   ...</td>\n",
       "      <td>Beijing China will ban the processing and sale...</td>\n",
       "      <td></td>\n",
       "      <td></td>\n",
       "      <td>2017-04-15 00:00:00</td>\n",
       "    </tr>\n",
       "  </tbody>\n",
       "</table>\n",
       "</div>"
      ],
      "text/plain": [
       "                                                 url     source  \\\n",
       "0  http://www.thehindu.com/news/national/New-Army...  The Hindu   \n",
       "1  http://www.thehindu.com/news/national/kerala/K...  The Hindu   \n",
       "2  http://www.thehindu.com/news/cities/mumbai/Luc...  The Hindu   \n",
       "3  http://www.thehindu.com/news/cities/Hyderabad/...  The Hindu   \n",
       "4  http://www.sify.com/news/china-to-ban-ivory-tr...       Sify   \n",
       "\n",
       "            crawl_time                                         title  \\\n",
       "0  2017-01-01 00:00:00       New Army Air Force Chiefs assume charge   \n",
       "1  2017-01-01 00:00:00               KSRTC unions call for stir on     \n",
       "2  2017-01-01 00:00:00  Lucky escape for tourists in SGNP bus mishap   \n",
       "3  2017-01-01 00:00:00               A successful year for Tollywood   \n",
       "4  2017-01-01 00:00:00           China to ban ivory trade by end of    \n",
       "\n",
       "                                 trimmed_description  \\\n",
       "0  The Army and the Air Force got new chiefs on  ...   \n",
       "1  The Indian National Trade Union Congress INTUC...   \n",
       "2   More than  people on board a bus operated by ...   \n",
       "3  The year just gone by will undoubtedly go down...   \n",
       "4  php iffunctionexistsismobile  ismobile  php   ...   \n",
       "\n",
       "                                             summary    city state  \\\n",
       "0  The Army and the Air Force got new chiefs on  ...                 \n",
       "1  Utility needs  crore to pay salary two ths pen...                 \n",
       "2   More than  people on board a bus operated by ...  Mumbai         \n",
       "3  The year saw a diverse range of movies being r...                 \n",
       "4  Beijing China will ban the processing and sale...                 \n",
       "\n",
       "                  Date  \n",
       "0  2017-01-01 00:00:00  \n",
       "1  2017-01-01 00:00:00  \n",
       "2  2017-01-01 00:00:00  \n",
       "3  2017-01-01 00:00:00  \n",
       "4  2017-04-15 00:00:00  "
      ]
     },
     "execution_count": 72,
     "metadata": {},
     "output_type": "execute_result"
    }
   ],
   "source": [
    "df.head()"
   ]
  }
 ],
 "metadata": {
  "kernelspec": {
   "display_name": "Python 3",
   "language": "python",
   "name": "python3"
  },
  "language_info": {
   "codemirror_mode": {
    "name": "ipython",
    "version": 3
   },
   "file_extension": ".py",
   "mimetype": "text/x-python",
   "name": "python",
   "nbconvert_exporter": "python",
   "pygments_lexer": "ipython3",
   "version": "3.6.3"
  },
  "varInspector": {
   "cols": {
    "lenName": 16,
    "lenType": 16,
    "lenVar": 40
   },
   "kernels_config": {
    "python": {
     "delete_cmd_postfix": "",
     "delete_cmd_prefix": "del ",
     "library": "var_list.py",
     "varRefreshCmd": "print(var_dic_list())"
    },
    "r": {
     "delete_cmd_postfix": ") ",
     "delete_cmd_prefix": "rm(",
     "library": "var_list.r",
     "varRefreshCmd": "cat(var_dic_list()) "
    }
   },
   "types_to_exclude": [
    "module",
    "function",
    "builtin_function_or_method",
    "instance",
    "_Feature"
   ],
   "window_display": false
  }
 },
 "nbformat": 4,
 "nbformat_minor": 2
}
