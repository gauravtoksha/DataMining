{
 "cells": [
  {
   "cell_type": "markdown",
   "metadata": {},
   "source": [
    "# Practical 9"
   ]
  },
  {
   "cell_type": "markdown",
   "metadata": {},
   "source": [
    "## Retrieval of Topics:NER\n",
    "---\n",
    "Aim: To use NER framework for identification fo Person,Location and Organisation"
   ]
  },
  {
   "cell_type": "markdown",
   "metadata": {},
   "source": [
    "Theory:The next task was to Retrive Topics name from summary:\n",
    "-  1.identifying the Nouns from summary , this is really important because we want to retrieve the names of entities\n",
    "-  2.Removal of Stop words"
   ]
  },
  {
   "cell_type": "markdown",
   "metadata": {},
   "source": [
    "Another suggested approach to Retrive the topics/categories is to look the url of the articles<br>\n",
    "some URLs have categories in them which helps to to some extent but these are small in numbers\n",
    "<br><br>\n",
    "In the meanwhile we can create a crawler to look at those websites and get the Topics from their MetaTags<br>\n",
    "this is included in another report ,it was not a successful approach due to time contraints and inconsistent<br>\n",
    "practices followed in Web Development"
   ]
  },
  {
   "cell_type": "markdown",
   "metadata": {},
   "source": [
    "The next solution is to use Named Entity Recognition Frameworks which identify the entities under<br>\n",
    "- Persons\n",
    "- Organizations\n",
    "- Location"
   ]
  },
  {
   "cell_type": "markdown",
   "metadata": {},
   "source": [
    "There are two Popular NER frameworks available on the internet which are tested in this document<br>\n",
    "-  NTLK \n",
    "-  NER Stanford<br>"
   ]
  },
  {
   "cell_type": "markdown",
   "metadata": {},
   "source": [
    "The Decision to choose which Framework to use was mainly dependent on two factors\n",
    "- Accuracy\n",
    "- Speed"
   ]
  },
  {
   "cell_type": "markdown",
   "metadata": {},
   "source": [
    "NLTK's NER gives the output in the form of Trees and Standford's NER provides the output in the form of list\n",
    "The main bottleneck which Standford's NER has is the speed of its output<br>\n",
    "i have tried Stanford's NER several times thinking it might be the issue with my pc ,but it is really slow<br>\n",
    "as compared NLTK's and hence the reason it is better to use NLTK's version<br>\n",
    "The only advantage Stanford's NER has is the accuracy but its not significant when you have alot of data "
   ]
  },
  {
   "attachments": {
    "image.png": {
     "image/png": "[encoded data removed]"
    }
   },
   "cell_type": "markdown",
   "metadata": {},
   "source": [
    "![image.png](attachment:image.png)"
   ]
  },
  {
   "cell_type": "markdown",
   "metadata": {},
   "source": [
    "## NER"
   ]
  },
  {
   "cell_type": "code",
   "execution_count": 73,
   "metadata": {
    "collapsed": true
   },
   "outputs": [],
   "source": [
    "##NLTK Version\n",
    "def get_continuous_chunks(text):\n",
    "    chunked = ne_chunk(pos_tag(word_tokenize(text)))\n",
    "    prev = None\n",
    "    continuous_chunk = []\n",
    "    current_chunk = []\n",
    "    for i in chunked:\n",
    "        if type(i) == Tree:\n",
    "            tag = i._label\n",
    "            current_str = \" \".join([token for token, pos in i.leaves()])\n",
    "            current_chunk.append(\" \".join([token for token, pos in i.leaves()]))\n",
    "            \n",
    "            current_chunk = [tag, current_str]\n",
    "        elif current_chunk:\n",
    "            named_entity = current_chunk\n",
    "            \n",
    "            if named_entity not in continuous_chunk:\n",
    "                continuous_chunk.append(named_entity)\n",
    "                current_chunk = []\n",
    "        else:\n",
    "            continue\n",
    "            \n",
    "    return continuous_chunk"
   ]
  },
  {
   "cell_type": "code",
   "execution_count": 74,
   "metadata": {
    "collapsed": true
   },
   "outputs": [],
   "source": [
    "def getNER(text):\n",
    "    classified_text=get_continuous_chunks(text)\n",
    "    Person=\"\"\n",
    "    Org=\"\"\n",
    "    loc=\"\"\n",
    "    for a in classified_text:\n",
    "        if a[0]=='PERSON':\n",
    "            Person+=a[1]+\",\"\n",
    "        elif a[0]=='ORGANIZATION':\n",
    "            Org+=a[1]+\",\"\n",
    "        elif a[0]=='LOCATION':\n",
    "            loc+=a[1]+\",\"\n",
    "    NERresult={}\n",
    "    NERresult['PERSON']=Person[:-1]\n",
    "    NERresult['ORGANIZATION']=Org[:-1]\n",
    "    NERresult['LOCATION']=loc[:-1]\n",
    " #   return Person,Org,loc\n",
    "    return NERresult"
   ]
  },
  {
   "cell_type": "code",
   "execution_count": 75,
   "metadata": {
    "collapsed": true
   },
   "outputs": [],
   "source": [
    "## NER STANFORD\n",
    "def getInChunks(text):\n",
    "    continuous_chunk=[]\n",
    "    current_chunk=[]\n",
    "    for key,value in text:\n",
    "        if value!='O':\n",
    "            current_chunk.append((key,value))\n",
    "        else:\n",
    "            if current_chunk:\n",
    "                continuous_chunk.append(current_chunk)\n",
    "                current_chunk=[]\n",
    "    if current_chunk:\n",
    "        continuous_chunk.append(current_chunk)\n",
    "    new_chunk=[]\n",
    "    for ne in continuous_chunk:\n",
    "        entity=\"\"\n",
    "        for key,value in ne:\n",
    "            entity+=\"\".join(key)+\" \"\n",
    "        entity=entity[:-1]+','\n",
    "        entity+=\"\".join(value)\n",
    "        new_chunk.append((entity))\n",
    "    return new_chunk"
   ]
  },
  {
   "cell_type": "code",
   "execution_count": 76,
   "metadata": {
    "collapsed": true
   },
   "outputs": [],
   "source": [
    "df['POL']=df['summary'].apply(lambda x:getNER(x)) ## this takes even more time"
   ]
  },
  {
   "cell_type": "code",
   "execution_count": 77,
   "metadata": {},
   "outputs": [
    {
     "data": {
      "text/plain": [
       "0    {'PERSON': '', 'ORGANIZATION': 'Army', 'LOCATI...\n",
       "1    {'PERSON': '', 'ORGANIZATION': '', 'LOCATION':...\n",
       "2    {'PERSON': '', 'ORGANIZATION': 'Sanjay Gandhi ...\n",
       "3    {'PERSON': '', 'ORGANIZATION': '', 'LOCATION':...\n",
       "4    {'PERSON': 'Barack Obama,Xi Jinping,Lo Sze Pin...\n",
       "Name: POL, dtype: object"
      ]
     },
     "execution_count": 77,
     "metadata": {},
     "output_type": "execute_result"
    }
   ],
   "source": [
    "df['POL'].head()"
   ]
  },
  {
   "cell_type": "code",
   "execution_count": 78,
   "metadata": {
    "collapsed": true
   },
   "outputs": [],
   "source": [
    "df['PERSON']=df['POL'].map(lambda x:x['PERSON'])"
   ]
  },
  {
   "cell_type": "code",
   "execution_count": 79,
   "metadata": {
    "collapsed": true
   },
   "outputs": [],
   "source": [
    "df['ORGANIZATION']=df['POL'].map(lambda x:x['ORGANIZATION'])"
   ]
  },
  {
   "cell_type": "code",
   "execution_count": 80,
   "metadata": {
    "collapsed": true
   },
   "outputs": [],
   "source": [
    "df['LOCATION']=df['POL'].map(lambda x:x['LOCATION'])"
   ]
  },
  {
   "cell_type": "code",
   "execution_count": 81,
   "metadata": {
    "collapsed": true
   },
   "outputs": [],
   "source": [
    "del df['POL']"
   ]
  },
  {
   "cell_type": "code",
   "execution_count": 82,
   "metadata": {},
   "outputs": [
    {
     "data": {
      "text/html": [
       "<div>\n",
       "<style>\n",
       "    .dataframe thead tr:only-child th {\n",
       "        text-align: right;\n",
       "    }\n",
       "\n",
       "    .dataframe thead th {\n",
       "        text-align: left;\n",
       "    }\n",
       "\n",
       "    .dataframe tbody tr th {\n",
       "        vertical-align: top;\n",
       "    }\n",
       "</style>\n",
       "<table border=\"1\" class=\"dataframe\">\n",
       "  <thead>\n",
       "    <tr style=\"text-align: right;\">\n",
       "      <th></th>\n",
       "      <th>url</th>\n",
       "      <th>source</th>\n",
       "      <th>crawl_time</th>\n",
       "      <th>title</th>\n",
       "      <th>trimmed_description</th>\n",
       "      <th>summary</th>\n",
       "      <th>city</th>\n",
       "      <th>state</th>\n",
       "      <th>Date</th>\n",
       "      <th>PERSON</th>\n",
       "      <th>ORGANIZATION</th>\n",
       "      <th>LOCATION</th>\n",
       "    </tr>\n",
       "  </thead>\n",
       "  <tbody>\n",
       "    <tr>\n",
       "      <th>0</th>\n",
       "      <td>http://www.thehindu.com/news/national/New-Army...</td>\n",
       "      <td>The Hindu</td>\n",
       "      <td>2017-01-01 00:00:00</td>\n",
       "      <td>New Army Air Force Chiefs assume charge</td>\n",
       "      <td>The Army and the Air Force got new chiefs on  ...</td>\n",
       "      <td>The Army and the Air Force got new chiefs on  ...</td>\n",
       "      <td></td>\n",
       "      <td></td>\n",
       "      <td>2017-01-01 00:00:00</td>\n",
       "      <td></td>\n",
       "      <td>Army</td>\n",
       "      <td></td>\n",
       "    </tr>\n",
       "    <tr>\n",
       "      <th>1</th>\n",
       "      <td>http://www.thehindu.com/news/national/kerala/K...</td>\n",
       "      <td>The Hindu</td>\n",
       "      <td>2017-01-01 00:00:00</td>\n",
       "      <td>KSRTC unions call for stir on</td>\n",
       "      <td>The Indian National Trade Union Congress INTUC...</td>\n",
       "      <td>Utility needs  crore to pay salary two ths pen...</td>\n",
       "      <td></td>\n",
       "      <td></td>\n",
       "      <td>2017-01-01 00:00:00</td>\n",
       "      <td></td>\n",
       "      <td></td>\n",
       "      <td></td>\n",
       "    </tr>\n",
       "    <tr>\n",
       "      <th>2</th>\n",
       "      <td>http://www.thehindu.com/news/cities/mumbai/Luc...</td>\n",
       "      <td>The Hindu</td>\n",
       "      <td>2017-01-01 00:00:00</td>\n",
       "      <td>Lucky escape for tourists in SGNP bus mishap</td>\n",
       "      <td>More than  people on board a bus operated by ...</td>\n",
       "      <td>More than  people on board a bus operated by ...</td>\n",
       "      <td>Mumbai</td>\n",
       "      <td></td>\n",
       "      <td>2017-01-01 00:00:00</td>\n",
       "      <td></td>\n",
       "      <td>Sanjay Gandhi National Park,Kanheri Caves</td>\n",
       "      <td></td>\n",
       "    </tr>\n",
       "    <tr>\n",
       "      <th>3</th>\n",
       "      <td>http://www.thehindu.com/news/cities/Hyderabad/...</td>\n",
       "      <td>The Hindu</td>\n",
       "      <td>2017-01-01 00:00:00</td>\n",
       "      <td>A successful year for Tollywood</td>\n",
       "      <td>The year just gone by will undoubtedly go down...</td>\n",
       "      <td>The year saw a diverse range of movies being r...</td>\n",
       "      <td></td>\n",
       "      <td></td>\n",
       "      <td>2017-01-01 00:00:00</td>\n",
       "      <td></td>\n",
       "      <td></td>\n",
       "      <td></td>\n",
       "    </tr>\n",
       "    <tr>\n",
       "      <th>4</th>\n",
       "      <td>http://www.sify.com/news/china-to-ban-ivory-tr...</td>\n",
       "      <td>Sify</td>\n",
       "      <td>2017-01-01 00:00:00</td>\n",
       "      <td>China to ban ivory trade by end of</td>\n",
       "      <td>php iffunctionexistsismobile  ismobile  php   ...</td>\n",
       "      <td>Beijing China will ban the processing and sale...</td>\n",
       "      <td></td>\n",
       "      <td></td>\n",
       "      <td>2017-04-15 00:00:00</td>\n",
       "      <td>Barack Obama,Xi Jinping,Lo Sze Ping,Wild Fauna...</td>\n",
       "      <td>State Council,State Forestry Administration,Ef...</td>\n",
       "      <td></td>\n",
       "    </tr>\n",
       "  </tbody>\n",
       "</table>\n",
       "</div>"
      ],
      "text/plain": [
       "                                                 url     source  \\\n",
       "0  http://www.thehindu.com/news/national/New-Army...  The Hindu   \n",
       "1  http://www.thehindu.com/news/national/kerala/K...  The Hindu   \n",
       "2  http://www.thehindu.com/news/cities/mumbai/Luc...  The Hindu   \n",
       "3  http://www.thehindu.com/news/cities/Hyderabad/...  The Hindu   \n",
       "4  http://www.sify.com/news/china-to-ban-ivory-tr...       Sify   \n",
       "\n",
       "            crawl_time                                         title  \\\n",
       "0  2017-01-01 00:00:00       New Army Air Force Chiefs assume charge   \n",
       "1  2017-01-01 00:00:00               KSRTC unions call for stir on     \n",
       "2  2017-01-01 00:00:00  Lucky escape for tourists in SGNP bus mishap   \n",
       "3  2017-01-01 00:00:00               A successful year for Tollywood   \n",
       "4  2017-01-01 00:00:00           China to ban ivory trade by end of    \n",
       "\n",
       "                                 trimmed_description  \\\n",
       "0  The Army and the Air Force got new chiefs on  ...   \n",
       "1  The Indian National Trade Union Congress INTUC...   \n",
       "2   More than  people on board a bus operated by ...   \n",
       "3  The year just gone by will undoubtedly go down...   \n",
       "4  php iffunctionexistsismobile  ismobile  php   ...   \n",
       "\n",
       "                                             summary    city state  \\\n",
       "0  The Army and the Air Force got new chiefs on  ...                 \n",
       "1  Utility needs  crore to pay salary two ths pen...                 \n",
       "2   More than  people on board a bus operated by ...  Mumbai         \n",
       "3  The year saw a diverse range of movies being r...                 \n",
       "4  Beijing China will ban the processing and sale...                 \n",
       "\n",
       "                  Date                                             PERSON  \\\n",
       "0  2017-01-01 00:00:00                                                      \n",
       "1  2017-01-01 00:00:00                                                      \n",
       "2  2017-01-01 00:00:00                                                      \n",
       "3  2017-01-01 00:00:00                                                      \n",
       "4  2017-04-15 00:00:00  Barack Obama,Xi Jinping,Lo Sze Ping,Wild Fauna...   \n",
       "\n",
       "                                        ORGANIZATION LOCATION  \n",
       "0                                               Army           \n",
       "1                                                              \n",
       "2          Sanjay Gandhi National Park,Kanheri Caves           \n",
       "3                                                              \n",
       "4  State Council,State Forestry Administration,Ef...           "
      ]
     },
     "execution_count": 82,
     "metadata": {},
     "output_type": "execute_result"
    }
   ],
   "source": [
    "df.head()"
   ]
  }
 ],
 "metadata": {
  "kernelspec": {
   "display_name": "Python 3",
   "language": "python",
   "name": "python3"
  },
  "language_info": {
   "codemirror_mode": {
    "name": "ipython",
    "version": 3
   },
   "file_extension": ".py",
   "mimetype": "text/x-python",
   "name": "python",
   "nbconvert_exporter": "python",
   "pygments_lexer": "ipython3",
   "version": "3.6.3"
  },
  "varInspector": {
   "cols": {
    "lenName": 16,
    "lenType": 16,
    "lenVar": 40
   },
   "kernels_config": {
    "python": {
     "delete_cmd_postfix": "",
     "delete_cmd_prefix": "del ",
     "library": "var_list.py",
     "varRefreshCmd": "print(var_dic_list())"
    },
    "r": {
     "delete_cmd_postfix": ") ",
     "delete_cmd_prefix": "rm(",
     "library": "var_list.r",
     "varRefreshCmd": "cat(var_dic_list()) "
    }
   },
   "types_to_exclude": [
    "module",
    "function",
    "builtin_function_or_method",
    "instance",
    "_Feature"
   ],
   "window_display": false
  }
 },
 "nbformat": 4,
 "nbformat_minor": 2
}
